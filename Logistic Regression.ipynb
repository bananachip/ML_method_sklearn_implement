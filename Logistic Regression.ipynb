{
 "cells": [
  {
   "cell_type": "markdown",
   "metadata": {},
   "source": [
    "# 逻辑回归"
   ]
  },
  {
   "cell_type": "code",
   "execution_count": 4,
   "metadata": {
    "collapsed": false
   },
   "outputs": [],
   "source": [
    "%matplotlib inline\n",
    "import numpy as np\n",
    "import matplotlib.pyplot as plt\n",
    "from matplotlib.font_manager import FontProperties\n",
    "font = FontProperties(fname=r\"C:\\Windows\\fonts\\msyh.ttc\",size=10)"
   ]
  },
  {
   "cell_type": "code",
   "execution_count": 5,
   "metadata": {
    "collapsed": false
   },
   "outputs": [
    {
     "data": {
      "text/plain": [
       "[<matplotlib.lines.Line2D at 0x1e3ead659b0>]"
      ]
     },
     "execution_count": 5,
     "metadata": {},
     "output_type": "execute_result"
    },
    {
     "data": {
      "image/png": "[encoded data removed]",
      "text/plain": [
       "<matplotlib.figure.Figure at 0x1e3ea51ec88>"
      ]
     },
     "metadata": {},
     "output_type": "display_data"
    }
   ],
   "source": [
    "#画逻辑函数的图 横坐标X是解释变量的线性组合 \n",
    "X = np.arange(-6,6,0.1)\n",
    "y = 1/(1+ np.exp(-X))\n",
    "plt.plot(X,y,'b-')"
   ]
  },
  {
   "cell_type": "markdown",
   "metadata": {},
   "source": [
    "# 垃圾邮件分类\n",
    "TF-IDF算法抽取短信的特征向量"
   ]
  },
  {
   "cell_type": "code",
   "execution_count": 22,
   "metadata": {
    "collapsed": false
   },
   "outputs": [
    {
     "name": "stdout",
     "output_type": "stream",
     "text": [
      "      0                                                  1\n",
      "0   ham  Go until jurong point, crazy.. Available only ...\n",
      "1   ham                      Ok lar... Joking wif u oni...\n",
      "2  spam  Free entry in 2 a wkly comp to win FA Cup fina...\n",
      "3   ham  U dun say so early hor... U c already then say...\n",
      "4   ham  Nah I don't think he goes to usf, he lives aro...\n"
     ]
    },
    {
     "data": {
      "text/plain": [
       "ham     4825\n",
       "spam     747\n",
       "Name: 0, dtype: int64"
      ]
     },
     "execution_count": 22,
     "metadata": {},
     "output_type": "execute_result"
    }
   ],
   "source": [
    "import pandas as pd\n",
    "df = pd.read_csv('SMSSpamCollection',sep='\\t',header=None)\n",
    "print(df.head())\n",
    "df[0].value_counts()"
   ]
  },
  {
   "cell_type": "code",
   "execution_count": 24,
   "metadata": {
    "collapsed": false
   },
   "outputs": [],
   "source": [
    "from sklearn.feature_extraction.text import TfidfVectorizer\n",
    "from sklearn.linear_model.logistic import LogisticRegression\n",
    "from sklearn.cross_validation import train_test_split"
   ]
  },
  {
   "cell_type": "code",
   "execution_count": 30,
   "metadata": {
    "collapsed": true
   },
   "outputs": [],
   "source": [
    "X_train_raw,X_test_raw,y_train,y_test =train_test_split(df[1],df[0])"
   ]
  },
  {
   "cell_type": "code",
   "execution_count": 39,
   "metadata": {
    "collapsed": true
   },
   "outputs": [],
   "source": [
    "#建一个TfidfVectorizer实例来计算TF-IDF权重\n",
    "vectorizer = TfidfVectorizer()\n",
    "X_train = vectorizer.fit_transform(X_train_raw)\n",
    "X_test = vectorizer.transform(X_test_raw)       ########test只能用transfrom(),不能用fit_transform(),否则抽取的特征数目不一样"
   ]
  },
  {
   "cell_type": "code",
   "execution_count": 41,
   "metadata": {
    "collapsed": false
   },
   "outputs": [
    {
     "data": {
      "text/plain": [
       "array(['ham', 'ham', 'ham', ..., 'ham', 'ham', 'ham'], dtype=object)"
      ]
     },
     "execution_count": 41,
     "metadata": {},
     "output_type": "execute_result"
    }
   ],
   "source": [
    "#LogisticRegression实例来训练模型\n",
    "classfier = LogisticRegression()\n",
    "classfier.fit(X_train,y_train)\n",
    "predictions = classfier.predict(X_test)\n",
    "predictions"
   ]
  },
  {
   "cell_type": "code",
   "execution_count": 43,
   "metadata": {
    "collapsed": false
   },
   "outputs": [
    {
     "name": "stdout",
     "output_type": "stream",
     "text": [
      "预测类型：ham, 信息：Loans for any purpose even if you have Bad Credit! Tenants Welcome. Call NoWorriesLoans.com on 08717111821\n",
      "预测类型：ham, 信息：Watching cartoon, listening music &amp; at eve had to go temple &amp; church.. What about u?\n",
      "预测类型：ham, 信息：Alright we'll bring it to you, see you in like  &lt;#&gt;  mins\n",
      "预测类型：ham, 信息：A bloo bloo bloo I'll miss the first bowl\n",
      "预测类型：ham, 信息：I'm tired of arguing with you about this week after week. Do what you want and from now on, i'll do the same.\n"
     ]
    }
   ],
   "source": [
    "for i,prediction in enumerate(predictions[-5:]):\n",
    "    print('预测类型：%s, 信息：%s' %(prediction,X_test_raw.iloc[i]))"
   ]
  },
  {
   "cell_type": "markdown",
   "metadata": {},
   "source": [
    "# 二元分类效果评估方法\n",
    "准确率（accuracy），精确率（precision）和召回率（recall）三项指标，以及综合评价指标（F1 measure）， ROC AUC值（Receiver Operating Characteristic ROC，Area Under Curve，AUC）"
   ]
  },
  {
   "cell_type": "code",
   "execution_count": 48,
   "metadata": {
    "collapsed": false
   },
   "outputs": [
    {
     "name": "stdout",
     "output_type": "stream",
     "text": [
      "[[4 1]\n",
      " [2 3]]\n"
     ]
    },
    {
     "data": {
      "text/plain": [
       "<matplotlib.text.Text at 0x1e38013ec18>"
      ]
     },
     "execution_count": 48,
     "metadata": {},
     "output_type": "execute_result"
    },
    {
     "data": {
      "image/png": "[encoded data removed]",
      "text/plain": [
       "<matplotlib.figure.Figure at 0x1e3801334e0>"
      ]
     },
     "metadata": {},
     "output_type": "display_data"
    }
   ],
   "source": [
    "#混淆矩阵描述真假与阴阳的关系\n",
    "from sklearn.metrics import confusion_matrix\n",
    "import matplotlib.pyplot as plt\n",
    "y_test = [0, 0, 0, 0, 0, 1, 1, 1, 1, 1]\n",
    "y_pred = [0, 1, 0, 0, 0, 0, 0, 1, 1, 1]\n",
    "confusion_matrix = confusion_matrix(y_test, y_pred)\n",
    "print(confusion_matrix)  #对角线上的值尽量高\n",
    "plt.matshow(confusion_matrix)\n",
    "plt.colorbar()\n",
    "plt.title('混淆矩阵',fontproperties=font)\n",
    "plt.ylabel('实际类型',fontproperties=font)\n",
    "plt.xlabel('预测类型',fontproperties=font)"
   ]
  },
  {
   "cell_type": "raw",
   "metadata": {},
   "source": [
    "1.准确率  sklearn的accuracy_score"
   ]
  },
  {
   "cell_type": "code",
   "execution_count": 49,
   "metadata": {
    "collapsed": false
   },
   "outputs": [
    {
     "data": {
      "text/plain": [
       "0.5"
      ]
     },
     "execution_count": 49,
     "metadata": {},
     "output_type": "execute_result"
    }
   ],
   "source": [
    "from sklearn.metrics import accuracy_score\n",
    "y_pred, y_true = [0, 1, 1, 0], [1, 1, 1, 1]\n",
    "accuracy_score(y_pred,y_true)"
   ]
  },
  {
   "cell_type": "raw",
   "metadata": {},
   "source": [
    "2. LogisticRegression.score()用来计算模型预测的准确率"
   ]
  },
  {
   "cell_type": "code",
   "execution_count": 54,
   "metadata": {
    "collapsed": false
   },
   "outputs": [
    {
     "name": "stdout",
     "output_type": "stream",
     "text": [
      "[ 0.95813397  0.95215311  0.95215311  0.95574163  0.96407186] 0.956450734894\n"
     ]
    }
   ],
   "source": [
    "from sklearn.cross_validation import cross_val_score\n",
    "scores = cross_val_score(classfier,X_train,y_train,cv=5)\n",
    "print(scores, np.mean(scores))\n",
    "#score代表准确率 预测正确的数目"
   ]
  },
  {
   "cell_type": "raw",
   "metadata": {},
   "source": [
    "3.精确率（精确率是指分类器预测出的垃圾短信中真的是垃圾短信的比例）和召回率（所有真的垃圾短信被分类器正确找出来的比例）"
   ]
  },
  {
   "cell_type": "raw",
   "metadata": {},
   "source": [
    "注意，要计算精确率和召回率时正标签必须为1"
   ]
  },
  {
   "cell_type": "code",
   "execution_count": 73,
   "metadata": {
    "collapsed": false
   },
   "outputs": [
    {
     "data": {
      "text/plain": [
       "LogisticRegression(C=1.0, class_weight=None, dual=False, fit_intercept=True,\n",
       "          intercept_scaling=1, max_iter=100, multi_class='ovr', n_jobs=1,\n",
       "          penalty='l2', random_state=None, solver='liblinear', tol=0.0001,\n",
       "          verbose=0, warm_start=False)"
      ]
     },
     "execution_count": 73,
     "metadata": {},
     "output_type": "execute_result"
    }
   ],
   "source": [
    "\n",
    "df = pd.read_csv('SMSSpamCollection',sep='\\t',header=None)\n",
    "df = df.rename(columns={0:'label',1:'message'})\n",
    "def label_cvt(x):\n",
    "    if x =='ham':\n",
    "        return 0\n",
    "    if x=='spam':\n",
    "        return 1\n",
    "df['label'] = df['label'].apply(label_cvt)\n",
    "\n",
    "X_train_raw, X_test_raw, y_train, y_test = train_test_split(df['message'], df['label'])\n",
    "vectorizer = TfidfVectorizer()\n",
    "X_train = vectorizer.fit_transform(X_train_raw)\n",
    "X_test = vectorizer.transform(X_test_raw)\n",
    "classifier = LogisticRegression()\n",
    "classifier.fit(X_train, y_train)"
   ]
  },
  {
   "cell_type": "code",
   "execution_count": 74,
   "metadata": {
    "collapsed": false
   },
   "outputs": [
    {
     "name": "stdout",
     "output_type": "stream",
     "text": [
      "精确率： [ 1.          1.          0.98648649  1.          1.        ] 0.997297297297\n",
      "召回率： [ 0.59633028  0.55045872  0.66972477  0.68807339  0.74074074] 0.649065579341\n"
     ]
    }
   ],
   "source": [
    "scores = cross_val_score(classfier,X_train,y_train,cv=5,scoring='precision')\n",
    "print('精确率：',scores, np.mean(scores))\n",
    "scores = cross_val_score(classfier,X_train,y_train,cv=5,scoring='recall')\n",
    "print('召回率：',scores, np.mean(scores))\n",
    "#分类器精确率99.2%，分类器预测出的垃圾短信中99.2%都是真的垃圾短信。召回率比较低67.2%，就是说真实的垃圾短信中，32.8%被当作正常短信了，\n",
    "#没有被识别出来。这些数据会不断变化，因为训练集和测试集是随机抽取的"
   ]
  },
  {
   "cell_type": "raw",
   "metadata": {},
   "source": [
    "4. 计算综合指标:精确率和召回率的调和均值（F1 measure）\n",
    "F1 = 2*PR/(P+R)\n",
    "有时也会用f1_macro和..，表示精确率权重大于召回率，或召回率权重大于精确率。"
   ]
  },
  {
   "cell_type": "code",
   "execution_count": 78,
   "metadata": {
    "collapsed": false
   },
   "outputs": [
    {
     "name": "stdout",
     "output_type": "stream",
     "text": [
      "综合评价指标： 0.784256207424 [ 0.74712644  0.71005917  0.79781421  0.81521739  0.85106383]\n"
     ]
    }
   ],
   "source": [
    "f1s = cross_val_score(classifier, X_train, y_train, cv=5, scoring='f1')\n",
    "print('综合评价指标：', np.mean(f1s), f1s)"
   ]
  },
  {
   "cell_type": "raw",
   "metadata": {},
   "source": [
    "5. ROC曲线 AUC值"
   ]
  },
  {
   "cell_type": "code",
   "execution_count": 108,
   "metadata": {
    "collapsed": false
   },
   "outputs": [
    {
     "name": "stdout",
     "output_type": "stream",
     "text": [
      "[[ 0.95570052  0.04429948]\n",
      " [ 0.98580328  0.01419672]\n",
      " [ 0.98013058  0.01986942]\n",
      " ..., \n",
      " [ 0.97953904  0.02046096]\n",
      " [ 0.96427817  0.03572183]\n",
      " [ 0.95328356  0.04671644]]\n",
      "roc_auc: 0.992341308378\n"
     ]
    },
    {
     "data": {
      "text/plain": [
       "[<matplotlib.lines.Line2D at 0x1e381566668>]"
      ]
     },
     "execution_count": 108,
     "metadata": {},
     "output_type": "execute_result"
    },
    {
     "data": {
      "image/png": "[encoded data removed]",
      "text/plain": [
       "<matplotlib.figure.Figure at 0x1e381479a20>"
      ]
     },
     "metadata": {},
     "output_type": "display_data"
    }
   ],
   "source": [
    "from sklearn.metrics import roc_curve,auc\n",
    "X_train_raw, X_test_raw, y_train, y_test = train_test_split(df['message'], df['label'])\n",
    "vectorizer = TfidfVectorizer()\n",
    "X_train = vectorizer.fit_transform(X_train_raw)\n",
    "X_test = vectorizer.transform(X_test_raw)\n",
    "classifier = LogisticRegression()\n",
    "classifier.fit(X_train, y_train)\n",
    "predictions = classifier.predict_proba(X_test) #两列 一列表示为1的概率，一列表示0的概率\n",
    "print (predictions)\n",
    "false_positive_rate, recall, thresholds = roc_curve(y_test, predictions[:, 1])\n",
    "roc_auc = auc(false_positive_rate,recall)\n",
    "print('roc_auc:',roc_auc)\n",
    "plt.plot(false_positive_rate, recall, 'b', label='AUC = %0.2f' % roc_auc)\n",
    "plt.title('Receiver Operating Characteristic')\n",
    "plt.legend(loc='lower right')\n",
    "plt.ylabel('Recall')\n",
    "plt.xlabel('Fall-out')\n",
    "plt.xlim([0.0, 1.0])\n",
    "plt.ylim([0.0, 1.0])\n",
    "plt.plot([0, 1], [0, 1], 'r--')"
   ]
  },
  {
   "cell_type": "markdown",
   "metadata": {},
   "source": [
    "# 网格搜索 scikit-learn有GridSearchCV()函数\n",
    "GridSearchCV()函数的参数有待评估模型pipeline，超参数词典parameters和效果评价指标scoring。n_jobs是指并发进程最大数量，设置为-1表示使用所有CPU核心进程。在Python3.4中，可以写一个Python的脚本，让fit()函数可以在main()函数里调用，也可以在Python自带命令行,IPython命令行和IPython Notebook运行。经过网格计算后的超参数在训练集中取得了很好的效果。"
   ]
  },
  {
   "cell_type": "code",
   "execution_count": 109,
   "metadata": {
    "collapsed": false
   },
   "outputs": [],
   "source": [
    "from sklearn.grid_search import GridSearchCV\n",
    "from sklearn.metrics import precision_score,recall_score,accuracy_score\n",
    "from sklearn.pipeline import Pipeline #在文本特征提取用"
   ]
  },
  {
   "cell_type": "code",
   "execution_count": 116,
   "metadata": {
    "collapsed": false
   },
   "outputs": [
    {
     "name": "stdout",
     "output_type": "stream",
     "text": [
      "Fitting 3 folds for each of 1536 candidates, totalling 4608 fits\n"
     ]
    },
    {
     "name": "stderr",
     "output_type": "stream",
     "text": [
      "[Parallel(n_jobs=-1)]: Done  34 tasks      | elapsed:   15.2s\n",
      "[Parallel(n_jobs=-1)]: Done 184 tasks      | elapsed:   19.2s\n",
      "[Parallel(n_jobs=-1)]: Done 434 tasks      | elapsed:   26.0s\n",
      "[Parallel(n_jobs=-1)]: Done 784 tasks      | elapsed:   38.9s\n",
      "[Parallel(n_jobs=-1)]: Done 1234 tasks      | elapsed:   57.8s\n",
      "[Parallel(n_jobs=-1)]: Done 1784 tasks      | elapsed:  1.2min\n",
      "[Parallel(n_jobs=-1)]: Done 2434 tasks      | elapsed:  1.7min\n",
      "[Parallel(n_jobs=-1)]: Done 3184 tasks      | elapsed:  2.1min\n",
      "[Parallel(n_jobs=-1)]: Done 4034 tasks      | elapsed:  3.5min\n",
      "[Parallel(n_jobs=-1)]: Done 4608 out of 4608 | elapsed:  4.0min finished\n"
     ]
    },
    {
     "name": "stdout",
     "output_type": "stream",
     "text": [
      "最佳效果：0.983\n"
     ]
    }
   ],
   "source": [
    "pipeline = Pipeline([('vect',TfidfVectorizer(stop_words='english')),('clf',LogisticRegression())])\n",
    "parameters = {\n",
    "    'vect__max_df': (0.25, 0.5, 0.75),\n",
    "    'vect__stop_words': ('english', None),\n",
    "    'vect__max_features': (2500, 5000, 10000, None),\n",
    "    'vect__ngram_range': ((1, 1), (1, 2)),\n",
    "    'vect__use_idf': (True, False),\n",
    "    'vect__norm': ('l1', 'l2'),\n",
    "    'clf__penalty': ('l1', 'l2'),\n",
    "    'clf__C': (0.01, 0.1, 1, 10),\n",
    "}\n",
    "grid_search = GridSearchCV(pipeline,parameters,n_jobs=-1,verbose=1,scoring='accuracy',cv=3)\n",
    "X, y, = df['message'], df['label']\n",
    "X_train, X_test, y_train, y_test = train_test_split(X, y)\n",
    "grid_search.fit(X_train,y_train)\n",
    "\n"
   ]
  },
  {
   "cell_type": "code",
   "execution_count": 131,
   "metadata": {
    "collapsed": false
   },
   "outputs": [
    {
     "name": "stdout",
     "output_type": "stream",
     "text": [
      "最佳效果：0.983\n",
      "最优参数组合：\n",
      "\tclf__C:10\n",
      "\tclf__penalty:'l2'\n",
      "\tvect__max_df:0.5\n",
      "\tvect__max_features:2500\n",
      "\tvect__ngram_range:(1, 2)\n",
      "\tvect__norm:'l2'\n",
      "\tvect__stop_words:None\n",
      "\tvect__use_idf:True\n",
      "准确率: 0.988513998564\n",
      "精确率： 0.994047619048\n",
      "召回率： 0.917582417582\n"
     ]
    }
   ],
   "source": [
    "print('最佳效果：%0.3f' %grid_search.best_score_)\n",
    "print ('最优参数组合：')\n",
    "best_parameters = grid_search.best_estimator_.get_params()\n",
    "for param_name in sorted(parameters.keys()):\n",
    "    print('\\t%s:%r'%(param_name,best_parameters[param_name]))\n",
    "    \n",
    "predictions = grid_search.predict(X_test)\n",
    "print('准确率:',accuracy_score(y_test,predictions))\n",
    "print('精确率：', precision_score(y_test, predictions))\n",
    "print('召回率：', recall_score(y_test, predictions))"
   ]
  },
  {
   "cell_type": "markdown",
   "metadata": {},
   "source": [
    "# 多类分类 sklearn的one-vs.-all或者one-vs.-the-rest方法\n",
    "以影评为例\n"
   ]
  },
  {
   "cell_type": "code",
   "execution_count": 138,
   "metadata": {
    "collapsed": false
   },
   "outputs": [
    {
     "data": {
      "text/html": [
       "<div>\n",
       "<table border=\"1\" class=\"dataframe\">\n",
       "  <thead>\n",
       "    <tr style=\"text-align: right;\">\n",
       "      <th></th>\n",
       "      <th>PhraseId</th>\n",
       "      <th>SentenceId</th>\n",
       "      <th>Phrase</th>\n",
       "      <th>Sentiment</th>\n",
       "    </tr>\n",
       "  </thead>\n",
       "  <tbody>\n",
       "    <tr>\n",
       "      <th>0</th>\n",
       "      <td>1</td>\n",
       "      <td>1</td>\n",
       "      <td>A series of escapades demonstrating the adage ...</td>\n",
       "      <td>1</td>\n",
       "    </tr>\n",
       "    <tr>\n",
       "      <th>1</th>\n",
       "      <td>2</td>\n",
       "      <td>1</td>\n",
       "      <td>A series of escapades demonstrating the adage ...</td>\n",
       "      <td>2</td>\n",
       "    </tr>\n",
       "    <tr>\n",
       "      <th>2</th>\n",
       "      <td>3</td>\n",
       "      <td>1</td>\n",
       "      <td>A series</td>\n",
       "      <td>2</td>\n",
       "    </tr>\n",
       "    <tr>\n",
       "      <th>3</th>\n",
       "      <td>4</td>\n",
       "      <td>1</td>\n",
       "      <td>A</td>\n",
       "      <td>2</td>\n",
       "    </tr>\n",
       "    <tr>\n",
       "      <th>4</th>\n",
       "      <td>5</td>\n",
       "      <td>1</td>\n",
       "      <td>series</td>\n",
       "      <td>2</td>\n",
       "    </tr>\n",
       "  </tbody>\n",
       "</table>\n",
       "</div>"
      ],
      "text/plain": [
       "   PhraseId  SentenceId                                             Phrase  \\\n",
       "0         1           1  A series of escapades demonstrating the adage ...   \n",
       "1         2           1  A series of escapades demonstrating the adage ...   \n",
       "2         3           1                                           A series   \n",
       "3         4           1                                                  A   \n",
       "4         5           1                                             series   \n",
       "\n",
       "   Sentiment  \n",
       "0          1  \n",
       "1          2  \n",
       "2          2  \n",
       "3          2  \n",
       "4          2  "
      ]
     },
     "execution_count": 138,
     "metadata": {},
     "output_type": "execute_result"
    }
   ],
   "source": [
    "import zipfile\n",
    "df = pd.read_csv('train.tsv',header=0,sep='\\t')\n",
    "df.head()"
   ]
  },
  {
   "cell_type": "code",
   "execution_count": 142,
   "metadata": {
    "collapsed": false
   },
   "outputs": [
    {
     "data": {
      "text/plain": [
       "2    79582\n",
       "3    32927\n",
       "1    27273\n",
       "4     9206\n",
       "0     7072\n",
       "Name: Sentiment, dtype: int64"
      ]
     },
     "execution_count": 142,
     "metadata": {},
     "output_type": "execute_result"
    }
   ],
   "source": [
    "df.count()\n",
    "df.Sentiment.value_counts()"
   ]
  },
  {
   "cell_type": "code",
   "execution_count": 143,
   "metadata": {
    "collapsed": false
   },
   "outputs": [
    {
     "data": {
      "text/plain": [
       "2    0.509945\n",
       "3    0.210989\n",
       "1    0.174760\n",
       "4    0.058990\n",
       "0    0.045316\n",
       "Name: Sentiment, dtype: float64"
      ]
     },
     "execution_count": 143,
     "metadata": {},
     "output_type": "execute_result"
    }
   ],
   "source": [
    "df.Sentiment.value_counts()/df.Sentiment.count()\n",
    "#近51%都是评价为2中等（neutral）的电影\n",
    "#可见，在这个问题里，准确率不是一个有信息量的评价指标，因为即使很烂的分类器预测出中等水平的结果，其准确率也是51%"
   ]
  },
  {
   "cell_type": "code",
   "execution_count": 144,
   "metadata": {
    "collapsed": true
   },
   "outputs": [],
   "source": [
    "from sklearn.metrics import classification_report,accuracy_score,confusion_matrix\n",
    "from sklearn.pipeline import Pipeline\n",
    "from sklearn.grid_search import GridSearchCV"
   ]
  },
  {
   "cell_type": "code",
   "execution_count": 149,
   "metadata": {
    "collapsed": false
   },
   "outputs": [
    {
     "name": "stdout",
     "output_type": "stream",
     "text": [
      "Fitting 3 folds for each of 24 candidates, totalling 72 fits\n"
     ]
    },
    {
     "name": "stderr",
     "output_type": "stream",
     "text": [
      "[Parallel(n_jobs=3)]: Done  44 tasks      | elapsed:   40.5s\n",
      "[Parallel(n_jobs=3)]: Done  72 out of  72 | elapsed:  1.5min finished\n"
     ]
    },
    {
     "data": {
      "text/plain": [
       "GridSearchCV(cv=None, error_score='raise',\n",
       "       estimator=Pipeline(steps=[('vect', TfidfVectorizer(analyzer='word', binary=False, decode_error='strict',\n",
       "        dtype=<class 'numpy.int64'>, encoding='utf-8', input='content',\n",
       "        lowercase=True, max_df=1.0, max_features=None, min_df=1,\n",
       "        ngram_range=(1, 1), norm='l2', preprocessor=None, smooth_idf=True,\n",
       "  ...ty='l2', random_state=None, solver='liblinear', tol=0.0001,\n",
       "          verbose=0, warm_start=False))]),\n",
       "       fit_params={}, iid=True, n_jobs=3,\n",
       "       param_grid={'vect__max_df': (0.25, 0.5), 'vect__ngram_range': ((1, 1), (1, 2)), 'vect__use_idf': (True, False), 'clf__C': (0.1, 1, 10)},\n",
       "       pre_dispatch='2*n_jobs', refit=True, scoring='accuracy', verbose=1)"
      ]
     },
     "execution_count": 149,
     "metadata": {},
     "output_type": "execute_result"
    }
   ],
   "source": [
    "pipeline = Pipeline([('vect',TfidfVectorizer(stop_words='english')),('clf',LogisticRegression())])\n",
    "parameters = {\n",
    "    'vect__max_df': (0.25, 0.5),\n",
    "    'vect__ngram_range': ((1, 1), (1, 2)),\n",
    "    'vect__use_idf': (True, False),\n",
    "    'clf__C': (0.1, 1, 10),\n",
    "}\n",
    "X,y = df['Phrase'],df['Sentiment'].as_matrix()\n",
    "X_train, X_test, y_train, y_test = train_test_split(X, y, train_size=0.5)\n",
    "grid_search = GridSearchCV(pipeline,parameters,n_jobs=3,verbose=1,scoring='accuracy')\n",
    "grid_search.fit(X_train,y_train)"
   ]
  },
  {
   "cell_type": "code",
   "execution_count": 150,
   "metadata": {
    "collapsed": false
   },
   "outputs": [
    {
     "name": "stdout",
     "output_type": "stream",
     "text": [
      "最佳效果：0.618\n",
      "最优参数组合：\n",
      "\tclf__C: 10\n",
      "\tvect__max_df: 0.25\n",
      "\tvect__ngram_range: (1, 2)\n",
      "\tvect__use_idf: False\n"
     ]
    }
   ],
   "source": [
    "print('最佳效果：%0.3f' % grid_search.best_score_)\n",
    "print('最优参数组合：')\n",
    "best_parameters = grid_search.best_estimator_.get_params()\n",
    "for param_name in sorted(parameters.keys()):\n",
    "    print('\\t%s: %r' % (param_name, best_parameters[param_name]))"
   ]
  },
  {
   "cell_type": "code",
   "execution_count": 154,
   "metadata": {
    "collapsed": false
   },
   "outputs": [
    {
     "name": "stdout",
     "output_type": "stream",
     "text": [
      "准确率： 0.636473151352\n",
      "混淆矩阵：\n",
      " [[ 1116  1741   689    72     5]\n",
      " [  935  5981  6216   536    39]\n",
      " [  233  3142 32643  3564   165]\n",
      " [   26   404  6431  8232  1266]\n",
      " [    5    28   521  2348  1692]]\n",
      "分类报告：\n",
      "              precision    recall  f1-score   support\n",
      "\n",
      "          0       0.48      0.31      0.38      3623\n",
      "          1       0.53      0.44      0.48     13707\n",
      "          2       0.70      0.82      0.76     39747\n",
      "          3       0.56      0.50      0.53     16359\n",
      "          4       0.53      0.37      0.44      4594\n",
      "\n",
      "avg / total       0.62      0.64      0.62     78030\n",
      "\n"
     ]
    }
   ],
   "source": [
    "predictions = grid_search.predict(X_test)\n",
    "print('准确率：', accuracy_score(y_test, predictions))\n",
    "print('混淆矩阵：\\n', confusion_matrix(y_test, predictions))\n",
    "print('分类报告：\\n', classification_report(y_test, predictions))"
   ]
  },
  {
   "cell_type": "markdown",
   "metadata": {},
   "source": [
    "# 多标签分类和问题转换"
   ]
  },
  {
   "cell_type": "raw",
   "metadata": {},
   "source": [
    "第一种转换方法是训练集里面每个样本通过幂运算转换成单标签；转换方法就是用幂运算将多个类合并成一个类，\n",
    "比如样本1有Local和US类，新建一个标签为Local^US类，这样多标签就变成单标签了；不实用，舍去\n",
    "\n",
    "另外一种问题转换方法就是每个标签都用二元分类处理。每个标签的分类器都预测样本是否属于该标签。\n",
    "我们的例子中需要5个二元分类器，第一个分类器预测样本是否应该被归入Local类，\n",
    "第二个分类器预测样本是否应该被归入US类，以此类推。预测最后一步就是把这些分类结果求并集，\n",
    "这个问题确保了单标签问题和多标签问题有同样的训练集，只是忽略了标签之间的关联关系。"
   ]
  },
  {
   "cell_type": "code",
   "execution_count": null,
   "metadata": {
    "collapsed": true
   },
   "outputs": [],
   "source": []
  }
 ],
 "metadata": {
  "kernelspec": {
   "display_name": "Python 3",
   "language": "python",
   "name": "python3"
  },
  "language_info": {
   "codemirror_mode": {
    "name": "ipython",
    "version": 3
   },
   "file_extension": ".py",
   "mimetype": "text/x-python",
   "name": "python",
   "nbconvert_exporter": "python",
   "pygments_lexer": "ipython3",
   "version": "3.6.0"
  }
 },
 "nbformat": 4,
 "nbformat_minor": 2
}
